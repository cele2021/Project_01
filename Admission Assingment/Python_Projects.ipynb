{
 "cells": [
  {
   "cell_type": "markdown",
   "id": "9563b7e7-e57c-4b8a-8e8b-294f9250632a",
   "metadata": {},
   "source": [
    "# Super Exciting Memory Seeing Myself as a Student of NHL STENDEN!!!"
   ]
  },
  {
   "cell_type": "markdown",
   "id": "fc192d3f-0390-482d-9114-2aa515df6e73",
   "metadata": {},
   "source": [
    "<h1 style = \"font-size: 3rem; color: orange;\">Jupyter Notebook Magic Commands</h1>"
   ]
  },
  {
   "cell_type": "markdown",
   "id": "a5008d06-0726-4d53-9b88-d24441f376e4",
   "metadata": {},
   "source": [
    "# Python Project by Celestine"
   ]
  },
  {
   "cell_type": "markdown",
   "id": "d046c162-5f33-46a2-bb84-93068f8daf74",
   "metadata": {},
   "source": [
    "<img src= \"https://picsum.photos/id/0/500/500\">"
   ]
  },
  {
   "cell_type": "markdown",
   "id": "ce9fc9e5-572e-455c-9dde-b0e5ea147db1",
   "metadata": {},
   "source": [
    "## Band Name Generator "
   ]
  },
  {
   "cell_type": "code",
   "execution_count": 12,
   "id": "f082dd69-fe8a-4504-9ef4-ec7fce677f61",
   "metadata": {},
   "outputs": [
    {
     "name": "stdout",
     "output_type": "stream",
     "text": [
      "Welcome to the Band Name Generator\n"
     ]
    },
    {
     "name": "stdin",
     "output_type": "stream",
     "text": [
      "What's the name of the city you come from?\n",
      " Lagos\n",
      "What's your pet's name?\n",
      " Cele\n"
     ]
    },
    {
     "name": "stdout",
     "output_type": "stream",
     "text": [
      "Your band name could be Lagos Cele\n"
     ]
    }
   ],
   "source": [
    "#Greeting from the program\n",
    "print(\"Welcome to the Band Name Generator\")\n",
    "#Prompt for user to enter city name\n",
    "city = input(\"What's the name of the city you come from?\\n\")\n",
    "#prompt for user to enter pet name\n",
    "pet=input(\"What's your pet's name?\\n\")\n",
    "#program combines the city and pet name to show user their band name\n",
    "\n",
    "print(\"Your band name could be \" +city+ \" \" + pet)"
   ]
  },
  {
   "cell_type": "markdown",
   "id": "51c963de-e25b-4d7c-a492-994e8e89bf5d",
   "metadata": {},
   "source": [
    "## BMI Calculator Project"
   ]
  },
  {
   "cell_type": "raw",
   "id": "979b78f5-0b70-4f4d-a2c9-26c3df72de5d",
   "metadata": {},
   "source": [
    "Body Mass Index (BMI) is a measure of body fat based on height and weight that applies to adult men and women."
   ]
  },
  {
   "cell_type": "code",
   "execution_count": 13,
   "id": "65fd47a6-542c-4cca-989b-1b06f6f09284",
   "metadata": {},
   "outputs": [
    {
     "name": "stdin",
     "output_type": "stream",
     "text": [
      "enter your height in m:  1.8\n",
      "enter your weight in kg:  85\n"
     ]
    },
    {
     "name": "stdout",
     "output_type": "stream",
     "text": [
      "26\n"
     ]
    }
   ],
   "source": [
    "#prompting user to enter their height\n",
    "height = input(\"enter your height in m: \")\n",
    "#prompting user to enter their weight\n",
    "weight = input(\"enter your weight in kg: \")\n",
    "\n",
    "#converting str to int(weight)\n",
    "weight_as_int = int(weight)\n",
    "height_as_float= float(height)\n",
    "\n",
    "bmi = weight_as_int / height_as_float **2\n",
    "bmi_as_int = int(bmi)\n",
    "print(bmi_as_int)"
   ]
  },
  {
   "cell_type": "markdown",
   "id": "016993ec-6d1f-4a74-80a0-b8e44e7099d3",
   "metadata": {},
   "source": [
    "## Tip Calculator Project"
   ]
  },
  {
   "cell_type": "code",
   "execution_count": 15,
   "id": "dfc2c4c4-9abf-4afc-9fa9-41498612fb14",
   "metadata": {},
   "outputs": [
    {
     "name": "stdout",
     "output_type": "stream",
     "text": [
      "Welcome to the Tip Calculator\n"
     ]
    },
    {
     "name": "stdin",
     "output_type": "stream",
     "text": [
      "What was the total bill? $ 150\n",
      "How much tip would you like to give? 10, 12, or 15?  12\n",
      "How many people to split the bill?  5\n"
     ]
    },
    {
     "name": "stdout",
     "output_type": "stream",
     "text": [
      "Each person should pay: $33.60\n"
     ]
    }
   ],
   "source": [
    "# Welcoming users to Tip Calculator Project\n",
    "print(\"Welcome to the Tip Calculator\")\n",
    "bill =  float(input(\"What was the total bill? $\"))\n",
    "tip=int(input(\"How much tip would you like to give? 10, 12, or 15? \"))\n",
    "people = int(input(\"How many people to split the bill? \"))\n",
    "tip_as_percent = tip/100\n",
    "total_tip_amount= bill*tip_as_percent\n",
    "total_bill=bill + total_tip_amount\n",
    "bill_per_person=total_bill/people\n",
    "final_amount = \"{:.2f}\".format(bill_per_person)\n",
    "print(f\"Each person should pay: ${final_amount}\")\n"
   ]
  },
  {
   "cell_type": "markdown",
   "id": "e27ae99e-0df1-4f83-86dd-a7429cdddb74",
   "metadata": {},
   "source": [
    "## Multiline Strings and String length"
   ]
  },
  {
   "cell_type": "code",
   "execution_count": 17,
   "id": "4d07b4f6-e952-4201-a0ba-f6160c95eb74",
   "metadata": {},
   "outputs": [
    {
     "name": "stdout",
     "output_type": "stream",
     "text": [
      "once upon a time\n",
      "there live a young man called Celestine\n",
      "who had a dream of schooling abroad in a great school like NHL Stenden\n",
      "it happened that his dream was fuilfilled\n",
      "and he was happy to God Almighty\n",
      "202\n"
     ]
    }
   ],
   "source": [
    "story= \"\"\"once upon a time\n",
    "there live a young man called Celestine\n",
    "who had a dream of schooling abroad in a great school like NHL Stenden\n",
    "it happened that his dream was fuilfilled\n",
    "and he was happy to God Almighty\"\"\"\n",
    "print(story)\n",
    "print(len(story))"
   ]
  },
  {
   "cell_type": "code",
   "execution_count": null,
   "id": "3d32d345-dced-4e04-af12-963beaeb516b",
   "metadata": {},
   "outputs": [],
   "source": []
  }
 ],
 "metadata": {
  "kernelspec": {
   "display_name": "Python 3 (ipykernel)",
   "language": "python",
   "name": "python3"
  },
  "language_info": {
   "codemirror_mode": {
    "name": "ipython",
    "version": 3
   },
   "file_extension": ".py",
   "mimetype": "text/x-python",
   "name": "python",
   "nbconvert_exporter": "python",
   "pygments_lexer": "ipython3",
   "version": "3.11.7"
  }
 },
 "nbformat": 4,
 "nbformat_minor": 5
}
